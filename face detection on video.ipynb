{
 "cells": [
  {
   "cell_type": "code",
   "execution_count": null,
   "id": "4b0f0072",
   "metadata": {},
   "outputs": [],
   "source": [
    "import cv2  \n",
    "#load the classifier \n",
    "face_cascade = cv2.CascadeClassifier('haarcascade_frontalface_default.xml') \n",
    "# capture dataframe from webcam\n",
    "frames = cv2.VideoCapture(0)\n",
    "\n",
    "while True:\n",
    "    _, image = frames.read()\n",
    "# convert image to grayscale\n",
    "    cvt_image= cv2.cvtColor(image,cv2.COLOR_BGR2GRAY)\n",
    "#detect face\n",
    "    Face = face_cascade.detectMultiScale(cvt_image,1.1,4)\n",
    "#Draw rectangle over image\n",
    "    for (x,y,w,h) in Face:\n",
    "         \n",
    "         cv2.rectangle(image,(x,y),(x+w,y+h),(255,0,1),3)\n",
    "    cv2.imshow('image',image) \n",
    "      # Stop if escape key is pressed\n",
    "    k = cv2.waitKey(30) & 0xff\n",
    "    if k==27:\n",
    "        break  \n",
    "frame.release()  "
   ]
  },
  {
   "cell_type": "code",
   "execution_count": null,
   "id": "e05b334d",
   "metadata": {},
   "outputs": [],
   "source": []
  },
  {
   "cell_type": "code",
   "execution_count": null,
   "id": "3ca2fc94",
   "metadata": {},
   "outputs": [],
   "source": []
  }
 ],
 "metadata": {
  "kernelspec": {
   "display_name": "Python 3 (ipykernel)",
   "language": "python",
   "name": "python3"
  },
  "language_info": {
   "codemirror_mode": {
    "name": "ipython",
    "version": 3
   },
   "file_extension": ".py",
   "mimetype": "text/x-python",
   "name": "python",
   "nbconvert_exporter": "python",
   "pygments_lexer": "ipython3",
   "version": "3.9.12"
  }
 },
 "nbformat": 4,
 "nbformat_minor": 5
}
